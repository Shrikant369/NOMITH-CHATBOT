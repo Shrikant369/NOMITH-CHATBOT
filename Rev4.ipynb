{
  "nbformat": 4,
  "nbformat_minor": 0,
  "metadata": {
    "colab": {
      "provenance": [],
      "include_colab_link": true
    },
    "kernelspec": {
      "name": "python3",
      "display_name": "Python 3"
    }
  },
  "cells": [
    {
      "cell_type": "markdown",
      "metadata": {
        "id": "view-in-github",
        "colab_type": "text"
      },
      "source": [
        "<a href=\"https://colab.research.google.com/github/Shrikant369/NOMITH-CHATBOT/blob/main/Rev4.ipynb\" target=\"_parent\"><img src=\"https://colab.research.google.com/assets/colab-badge.svg\" alt=\"Open In Colab\"/></a>"
      ]
    },
    {
      "cell_type": "markdown",
      "metadata": {
        "id": "1Yq2bflbjz18"
      },
      "source": [
        "# Lesson 4: The `gameplay()` Function"
      ]
    },
    {
      "cell_type": "markdown",
      "metadata": {
        "id": "WqyZkzJYLoVr"
      },
      "source": [
        "---"
      ]
    },
    {
      "cell_type": "markdown",
      "metadata": {
        "id": "SbqnU9dALpxM"
      },
      "source": [
        "<center><img src=\"https://curriculum.whitehatjr.com/APT+Asset/Final+C2+images/q+and+a_1.png\"/></center>\n",
        "<br/>\n",
        "<h3><font color=red><b>\n",
        "<img src=\"https://curriculum.whitehatjr.com/APT+Asset/Final+C2+images/question.jpg\"/>Have you ever played the game of Ludo?</font></b>\n",
        "<br/>\n",
        "<img src=\"https://curriculum.whitehatjr.com/APT+Asset/APT+C4+images/APT+C2-08.png\"/>\n",
        "\n",
        "\n",
        "\n",
        "<h3><img src=\"https://curriculum.whitehatjr.com/APT+Asset/Final+C2+images/question.jpg\"/><b><font color=red>What is the rule to bring the first pawn onto the board?</font></b><a href=\"https://curriculum.whitehatjr.com/APT+Asset/APT+C4+images/gif_imp.gif\"><img src=\"https://curriculum.whitehatjr.com/APT+Asset/Final+C2+images/download.jpg\"/> </a>\n",
        "\n",
        "<img src=\"https://curriculum.whitehatjr.com/APT+Asset/APT+C4+images/WHJ-Ludo-Six-Dice-ATP-C4-01.gif\"/>\n",
        "\n",
        "\n",
        "\n",
        "<h3><img src=\"https://curriculum.whitehatjr.com/APT+Asset/Final+C2+images/question.jpg\"/><b><font color=red>What are the tasks that keeps on repeating or looping in this game?</font></b><a href=\"https://curriculum.whitehatjr.com/APT+Asset/APT+C4+images/gif_imp2.gif\"><img src=\"https://curriculum.whitehatjr.com/APT+Asset/Final+C2+images/download.jpg\"/> </a>\n",
        "\n",
        "<img src=\"https://curriculum.whitehatjr.com/APT+Asset/APT+C4+images/WHJ-Kids-Playing-Ludo-ATP-01.gif\"/>\n",
        "\n",
        "\n",
        "\n",
        "\n",
        "\n",
        "\n",
        "\n"
      ]
    },
    {
      "cell_type": "markdown",
      "metadata": {
        "id": "7LlG_PPFjJUz"
      },
      "source": [
        "### Today's Class\n",
        "\n",
        "In the previous lesson, we created a slightly better version of the Mind Reader game algorithm by keeping the counts of the player inputs. Based on the player input, the computer predicted `0` or `1`, i.e., `'Heads'` or `'Tails'`. We also learnt how to create a user-defined function in Python and how to use them. However, we didn't quite fully cover the `gameplay()` function.\n",
        "\n",
        "In this lesson, we will learn the following:\n",
        "\n",
        "1. The working of the `gameplay()` function.\n",
        "\n",
        "2. Python list to unravel the mystery behind the `valid_entries = ['0', '1']` statement.\n",
        "\n",
        "3. The working of the `while player_input not in valid_entries` statement.\n",
        "\n",
        "4. The use of the `break` keyword.\n",
        "\n",
        "<center>\n",
        "<img src=\"https://curriculum.whitehatjr.com/APT+Asset/APT+C4+images/concepts.png\"/>\n"
      ]
    },
    {
      "cell_type": "markdown",
      "metadata": {
        "id": "A9DUkIzL8p6S"
      },
      "source": [
        "---"
      ]
    },
    {
      "cell_type": "markdown",
      "metadata": {
        "id": "jF60fIhH8q66"
      },
      "source": [
        "#### Activity 1: Python Lists\n",
        "\n",
        "Before starting Python lists, let us understand the concept of Data Structure.\n",
        "\n",
        "**Data Structure:**\n",
        "- We know that variables can store only 1 value at a time.\n",
        "- Data structures are used to store **multiple** values inside a single variable in an organised way such that the values can be easily accessed and modified.\n",
        "\n",
        "<img src=\"https://curriculum.whitehatjr.com/APT+Asset/APT+C4+images/disorganised-organised-wardrobe-01.jpg\"/>\n",
        "\n",
        "\n",
        "\n",
        "\n",
        "**What is a Python List?**\n",
        "\n",
        "A Python list is a **data structure** which can contain more than one value at-a-time.\n",
        "\n",
        "For e.g: The `gameplay()` function, begins with a Python list which is `valid_entries = ['0', '1']`. The list contains two string values. They are `'0'` and `'1'`.\n",
        "\n",
        "\n",
        "\n",
        "A value in a list is generally referred to as an **item** or an **element**.\n",
        "<center>\n",
        "<img src=\"https://curriculum.whitehatjr.com/APT+Asset/APT+C3+images/valid_entries2.PNG\"/>\n",
        "</center>\n",
        "\n",
        "Let's suppose that you want to store the names of the countries who won the FIFA world cup from `1982` till `2018`.\n",
        "\n",
        "|Year|Winner|\n",
        "|-|-|\n",
        "|1982|Italy|\n",
        "|1986|Argentina|\n",
        "|1990|Germany|\n",
        "|1994|Brazil|\n",
        "|1998|France|\n",
        "|2002|Brazil|\n",
        "|2006|Italy|\n",
        "|2010|Spain|\n",
        "|2014|Germany|\n",
        "|2018|France|\n",
        "\n",
        "In this, you would require a variable for every winner. But using a Python list, you can store all the winners within a single variable.\n",
        "\n",
        "A Python list is created using the square brackets `[]`. Each item in a Python list is separated by a comma.\n",
        "\n"
      ]
    },
    {
      "cell_type": "code",
      "metadata": {
        "id": "kRE_dZzB-Fy_"
      },
      "source": [
        "# Teacher Action: Create a Python list containing all the winners of the FIFA world cup from 1982 to 2018. Store it in the 'fifa_wc_winners' variable.\n"
      ],
      "execution_count": null,
      "outputs": []
    },
    {
      "cell_type": "markdown",
      "metadata": {
        "id": "9Ep2IuAAB6K6"
      },
      "source": [
        "As you can see, we have created a Python list using the square brackets. Each item in the list is separated by a comma.\n",
        "\n",
        "<img src=\"https://curriculum.whitehatjr.com/APT+Asset/APT+C4+images/list.png\"/>\n",
        "\n",
        "You can verify whether a value stored in a variable is a list or not using the `type()` function.\n",
        "\n",
        "**Note:** The `type()` function is one of the default functions in python and need not be created."
      ]
    },
    {
      "cell_type": "code",
      "metadata": {
        "id": "WIptCLgQCWkq"
      },
      "source": [
        "# Student Action: Verify whether the 'fifa_wc_winners' is a list or not using the 'type()' function.\n"
      ],
      "execution_count": null,
      "outputs": []
    },
    {
      "cell_type": "markdown",
      "metadata": {
        "id": "z6bJb6BZCi2D"
      },
      "source": [
        "As you can see, the `type()` function has returned `list` as an output which confirms the value stored in the `fifa_wc_winners` variable is indeed a list."
      ]
    },
    {
      "cell_type": "markdown",
      "metadata": {
        "id": "DM52LM5m_paC"
      },
      "source": [
        "---"
      ]
    },
    {
      "cell_type": "markdown",
      "metadata": {
        "id": "xxtMQ0maBN8v"
      },
      "source": [
        "#### Activity 2: The `in` And `not in` Keywords\n",
        "\n",
        "\n",
        "\n",
        "Now, let's learn the `in` and `not in` keywords. The `not in` keyword is used in the `while player_input not in valid_entries` statement.\n",
        "\n",
        "These keywords are used to check whether an item exists in a Python list or not.\n",
        "\n",
        "\n",
        "\n",
        "<b><u>The `in` Keyword:</u></b>\n",
        "\n",
        "If an item exists in a list, then `in` returns `True` otherwise it returns `False`.\n",
        "\n",
        "For example: Suppose you want to check whether the item `'Spain'` exists in the `fifa_wc_winners` list or not.\n",
        "\n",
        "<img src=\"https://curriculum.whitehatjr.com/APT+Asset/APT+C4+images/list.png\"/>\n",
        "\n",
        "You can do this using `in` keyword.\n",
        "\n",
        "If `'Spain'` exists in the list, `in` will return `True` else it will return `False`."
      ]
    },
    {
      "cell_type": "code",
      "metadata": {
        "id": "JHnfoXJ_D0GW"
      },
      "source": [
        "# Student Action: Check whether 'Spain' exists in the 'fifa_wc_winners' list or not.\n"
      ],
      "execution_count": null,
      "outputs": []
    },
    {
      "cell_type": "markdown",
      "metadata": {
        "id": "Mpu9o8_fEAch"
      },
      "source": [
        "<b><u>The `not in` Keyword:</u></b>\n",
        "\n",
        "The `not in` keyword is the exact opposite of the `in` keyword. If an item exists in a list, then `not in` returns `False` otherwise it returns `True`.\n",
        "\n",
        "Using the `not in` keyword, check whether `'Spain'` exists in the `fifa_wc_winners` list or not."
      ]
    },
    {
      "cell_type": "code",
      "metadata": {
        "id": "7IyMql4zJZrU"
      },
      "source": [
        "# Student Action: Check whether 'Spain' exists in the 'fifa_wc_winners' list or not.\n"
      ],
      "execution_count": null,
      "outputs": []
    },
    {
      "cell_type": "markdown",
      "metadata": {
        "id": "iw19ZgsJJgoO"
      },
      "source": [
        "The `not in` keyword returned `False` which means `Spain` exists in the `fifa_wc_winners` list.\n",
        "\n",
        "Now, create the `valid_entries` variable storing the list `['0', '1']`. Also, ask a player of the Mind Reader game to enter either `0` or `1` and store the input in the `player_input` variable. Then check whether the value stored in the `player_input` variable exists in the `valid_entries` list or not."
      ]
    },
    {
      "cell_type": "code",
      "metadata": {
        "id": "wehMgS2-K1Ne"
      },
      "source": [
        "# Student Action: Take input from a player and store it in the 'player_input' variable.\n",
        "# Check whether the value stored in the 'player_input' variable exists in the ['0', '1'] list or not using the 'not in' keyword.\n"
      ],
      "execution_count": null,
      "outputs": []
    },
    {
      "cell_type": "markdown",
      "metadata": {
        "id": "ApiREfhaLggO"
      },
      "source": [
        "The `not in` keyword returned `False` which confirms that the value stored in the `player_input` variable does exist in the `valid_entries` list."
      ]
    },
    {
      "cell_type": "markdown",
      "metadata": {
        "id": "Yif48zt746J9"
      },
      "source": [
        "---"
      ]
    },
    {
      "cell_type": "markdown",
      "metadata": {
        "id": "E0R38jdqOh4L"
      },
      "source": [
        "#### Activity 3: Infinite `while` Loops^^\n",
        "\n",
        "\n",
        "<img src=\"https://curriculum.whitehatjr.com/APT+Asset/Final+C2+images/question.jpg\"/><b><font color=red> What will you do when your phone gets hanged up?</font></b>\n",
        "\n",
        "<img src=\"https://curriculum.whitehatjr.com/APT+Asset/APT+C4+images/angry+person+due+to+phone-01.jpg\" height=500/>\n",
        "\n",
        "Your phone gets into an infinite loop due to any of the reasons such as hardware or software defects, multitasking, insufficient RAM etc.\n",
        "\n",
        "Similarly, an infinite `while` loop is a never-ending `while` loop.\n",
        "\n",
        "It does not have any stopping condition. In other words, **the condition specified in an infinite `while` loop is always true.** To stop an infinite `while` loop, you have to manually stop it by interrupting the code execution.\n",
        "\n",
        "For example, the `while True` is a never-ending loop. Because the condition `True` is always true.\n",
        "\n",
        "e.g:\n",
        "```python\n",
        "while True:\n",
        "  //statements\n",
        "```\n",
        "\n",
        "Consider a variable `counter` whose initial value is `0`. Say, if you try to increase the value stored in the `counter` variable using the `while` loop, then the value stored in the `counter` variable will continuously keep increasing unless you stop the loop by pressing the **Stop** button on the left-hand side of the code cell.\n",
        "\n",
        "**Note:** After interrupting the code execution, Python will throw `KeyboardInterrupt` error. Ignore it! It's nothing to worry about."
      ]
    },
    {
      "cell_type": "code",
      "metadata": {
        "id": "g3PiGOTuP5Yb"
      },
      "source": [
        "# Teacher Action: Demonstrate how an infinite 'loop' runs endlessly until the coder interrupts the code execution.\n"
      ],
      "execution_count": null,
      "outputs": []
    },
    {
      "cell_type": "markdown",
      "metadata": {
        "id": "c_oKwSI8QT4i"
      },
      "source": [
        "As you can see, we had to interrupt the code execution to stop the infinite `while` loop. Let's print the value stored in the `counter` variable. It should contain a very high integer value."
      ]
    },
    {
      "cell_type": "code",
      "metadata": {
        "id": "v4oypjLaQgG2"
      },
      "source": [
        "# Teacher Action: Print the value stored in the 'counter' variable.\n"
      ],
      "execution_count": null,
      "outputs": []
    },
    {
      "cell_type": "markdown",
      "metadata": {
        "id": "M5DEJ9fwQmUo"
      },
      "source": [
        "The value stored in the `counter` variable is a very high integer value because the loop kept increasing the value stored in the `counter` variable more than a million times in just a few seconds. That's the power of an `infinite` while loop. Hence, it must be handled with extreme care otherwise your laptop/desktop will crash if an infinite `while` loop runs for more than a few seconds.\n",
        "\n",
        "Now, you create a `factor` variable and another infinite `while` loop by specifying a condition which is always true. The infinite `while` loop should continuously multiply the value with `2` stored in the `factor` variable.\n",
        "\n",
        "Immediately after executing the code, interrupt the execution by clicking on the **Stop** button on the left-hand side of the code cell. Otherwise, your laptop might crash.\n",
        "\n",
        "**Note:** After interrupting the code execution, Python will throw `KeyboardInterrupt` error. Ignore it! It's nothing to worry about."
      ]
    },
    {
      "cell_type": "code",
      "metadata": {
        "id": "M5TzBOCuR20x"
      },
      "source": [
        "# Student Action: Create an infinite 'while' loop.\n"
      ],
      "execution_count": null,
      "outputs": []
    },
    {
      "cell_type": "markdown",
      "metadata": {
        "id": "arFngYdNS0Fk"
      },
      "source": [
        "The `factor > 0` condition is always true. Hence, there is no stopping condition. So, the `while` loop above will run indefinitely.\n",
        "\n",
        "Now, print the value stored in the `factor` variable."
      ]
    },
    {
      "cell_type": "code",
      "metadata": {
        "id": "5suk_Y16S3uk"
      },
      "source": [
        "# Student Action: Print the value stored in the 'factor' variable.\n"
      ],
      "execution_count": null,
      "outputs": []
    },
    {
      "cell_type": "markdown",
      "metadata": {
        "id": "4-zaMd2NS6tI"
      },
      "source": [
        "As you can see, the value stored in the `factor` variable is greater than trillions. That's the power of an infinite `while` loop."
      ]
    },
    {
      "cell_type": "markdown",
      "metadata": {
        "id": "b9NMfS-pOg__"
      },
      "source": [
        "---"
      ]
    },
    {
      "cell_type": "markdown",
      "metadata": {
        "id": "qf_vqTXRVTqH"
      },
      "source": [
        "#### Activity 4: The `break` Keyword^\n",
        "\n",
        "There's another way to stop a loop whether it is an infinite loop or a finite loop. A finite loop executes for a fixed number of times. To stop a loop, use the `break` keyword.\n",
        "\n",
        "<img src=\"https://curriculum.whitehatjr.com/APT+Asset/APT+C4+images/true+statement+inside+loop-01+(1).jpg\" height=500/>\n",
        "\n",
        "\n",
        "We have used break statement in the `gameplay()` function to break the infinite `while` loop either when the player_score value reaches 10 or the computer_score value reaches 10.\n",
        "\n",
        "```\n",
        "def gameplay():\n",
        "  valid_entries = ['0', '1']\n",
        "  while True:\n",
        "    predicted = prediction()\n",
        "    player_input = input(\"Enter either 0 or 1: \")\n",
        "    while player_input not in valid_entries:\n",
        "      print(\"Invalid Input!\")\n",
        "      player_input = input(\"Please enter either 0 or 1: \")\n",
        "  \n",
        "    player_input = int(player_input)\n",
        "    update_counts(player_input)\n",
        "    update_scores(predicted, player_input)\n",
        "\n",
        "    if player_score == 10:\n",
        "      print(\"Congrats, You Won!\")\n",
        "      break\n",
        "    elif computer_score == 10:\n",
        "      print(\"Bad Luck, You Lost!\")\n",
        "      break\n",
        "```\n",
        "\n",
        "Let's stop the infinite `while` loop in the previous code when the `counter` value reaches `1000` using the `break` keyword."
      ]
    },
    {
      "cell_type": "code",
      "metadata": {
        "id": "wgwBShK0hUu4"
      },
      "source": [
        "# Teacher Action: Stop the 'while' loop when the 'counter' value reaches 1000, using the 'break' keyword.\n"
      ],
      "execution_count": null,
      "outputs": []
    },
    {
      "cell_type": "markdown",
      "metadata": {
        "id": "Ix-ZtufVhx6F"
      },
      "source": [
        "As you can see, the `break` keyword stopped the `while` loop when the `counter` value reached `1000`.\n",
        "\n",
        "Similarly, in your previous infinite `while` loop, you stop the loop when the `factor` value reaches $2^{32} = 4294967296$."
      ]
    },
    {
      "cell_type": "code",
      "metadata": {
        "id": "GQkPhQVmjBBi"
      },
      "source": [
        "# Student Action: Stop the 'while' loop when the 'factor' value reaches 4294967296, using the 'break' keyword.\n"
      ],
      "execution_count": null,
      "outputs": []
    },
    {
      "cell_type": "markdown",
      "metadata": {
        "id": "U515DnZDjsv7"
      },
      "source": [
        "So, the `break` keyword stopped the `while` loop when the `factor` value reached $2^{32}$."
      ]
    },
    {
      "cell_type": "markdown",
      "metadata": {
        "id": "v7aD2l3SVS9M"
      },
      "source": [
        "---"
      ]
    },
    {
      "cell_type": "markdown",
      "metadata": {
        "id": "GDhV-c911Omg"
      },
      "source": [
        "#### Activity 5: The Nested `while` Loops^^^\n",
        "\n",
        "The term nested means *something inside something like a gift box inside another gift box.* Refer to the image shown below.\n",
        "\n",
        "<img src='https://student-datasets-bucket.s3.ap-south-1.amazonaws.com/images/nested-boxes.jpg' width=400>\n",
        "\n",
        "Hence, a nested `while` loop means a `while` loop inside another `while` loop.\n",
        "\n",
        "<img src=\"https://curriculum.whitehatjr.com/APT+Asset/APT+C4+images/condition+1+and+2+false-01+(1).jpg\"/></td>\n",
        "\n",
        "\n",
        "\n",
        "The `gameplay()` function works entirely based on a nested `while` loop.\n",
        "\n",
        "```python\n",
        "while True:\n",
        "    predicted = prediction()\n",
        "    player_input = input(\"Enter either 0 or 1: \")\n",
        "    while player_input not in valid_entries:\n",
        "      print(\"Invalid Input!\")\n",
        "      player_input = input(\"Please enter either 0 or 1: \")\n",
        "```\n",
        "\n",
        "- The outer `while` loop condition is always true. So, it is an infinite `while` loop. It stops because of the `break` keyword when the `computer_score` and `player_score` values are being compared.\n",
        "- Inside the `while` loop, there is a statement:\n",
        "     \n",
        "     `player_input = input(\"Enter either 0 or 1: \")`\n",
        "  \n",
        "  followed by another `while` loop (nested loop) which stops when the `player_input` value exists in the `valid_entries` list.\n",
        "\n",
        "- Otherwise, the inner `while` loop continuously asks the player to enter either `0` or `1`.\n",
        "\n",
        "Let us first understand how nested loop works:\n",
        "\n",
        "---\n",
        "\n",
        "Consider a small multiplication table of `2` and `3`.\n",
        "\n",
        "|2|3|\n",
        "|-|-|\n",
        "|2 x 1 = 2|3 x 1 = 3|\n",
        "|2 x 2 = 4|3 x 2 = 6|\n",
        "|2 x 3 = 6|3 x 3 = 9|\n",
        "\n",
        "To print this table, we will use two variables:\n",
        "1. `first_num` for the first number.\n",
        "2. `sec_num` for the second number.\n",
        "\n",
        "\n",
        "\n",
        "<img src=\"https://curriculum.whitehatjr.com/APT+Asset/APT+C4+images/table.PNG\"/>\n",
        "\n",
        "From the above table, we can observe that:\n",
        "\n",
        "- `first_num` will range from `2` to `3`.\n",
        "- `sec_num` will range from `1` to `3` for each `first_num`.\n",
        "\n",
        "So, the `sec_num` will loop using *inner loop* and `first_num` will loop using *outer loop*.\n",
        "\n",
        "\n",
        "\n",
        "<img src=\"https://curriculum.whitehatjr.com/APT+Asset/APT+C4+images/table2.PNG\"/>\n",
        "\n",
        "In nested loops, the inner loop runs many times inside the outer loop. The inner loop must finish all its iterations before the outer loop can continue its next iteration.\n",
        "\n",
        "<img src=\"https://curriculum.whitehatjr.com/APT+Asset/APT+C4+images/apt-c4-ball-rotating-gif.gif\" height=400/>\n",
        "\n",
        "Our nested loop will loop like this:\n",
        "\n",
        "\n",
        "<img src=\"https://curriculum.whitehatjr.com/APT+Asset/APT+C4+images/loop2.png\"  />\n",
        "<img src=\"https://curriculum.whitehatjr.com/APT+Asset/APT+C4+images/new_grid_3.png\" />\n",
        "\n",
        "You may observe `print()` function below `sec_num=sec_num+1` statement. It added to print a new line between multiplication tables of two numbers.\n",
        "\n",
        "\n",
        "\n",
        "Similarly, you can print the complete multiplication table of `2`, `3` and `4` using nested `while` loop.\n",
        "\n",
        "\n",
        "|2|3|4|\n",
        "|-|-|-|\n",
        "|2 x 1 = 2|3 x 1 = 3|4 x 1 = 4|\n",
        "|2 x 2 = 4|3 x 2 = 6|4 x 2 = 8|\n",
        "|2 x 3 = 6|3 x 3 = 9|4 x 3 = 12|\n",
        "|2 x 4 = 8|3 x 4 = 12|4 x 4 = 16|\n",
        "|2 x 5 = 10|3 x 5 = 15|4 x 5 = 20|\n",
        "|2 x 6 = 12|3 x 6 = 18|4 x 6 = 24|\n",
        "|2 x 7 = 14|3 x 7 = 21|4 x 7 = 28|\n",
        "|2 x 8 = 16|3 x 8 = 24|4 x 8 = 32|\n",
        "|2 x 9 = 18|3 x 9 = 27|4 x 9 = 36|\n",
        "|2 x 10 = 20|3 x 10 = 30|4 x 10 = 40|\n",
        "\n"
      ]
    },
    {
      "cell_type": "code",
      "metadata": {
        "id": "HMdfqHhbYHTO"
      },
      "source": [
        "# Student Action: Use a nested 'while' loop and generate a mutiplication table for 2, 3 and 4.\n"
      ],
      "execution_count": null,
      "outputs": []
    },
    {
      "cell_type": "markdown",
      "metadata": {
        "id": "LKKZN2LDuU-d"
      },
      "source": [
        "In the above code,\n",
        "\n",
        "1. The outer `while` loop runs thrice because the values of the `first_num` variable go from `2` to `4` as a result of the condition `while first_num < 5`.\n",
        "\n",
        "2. For every value of the `first_num` variable, the inner `while` loop runs `10` times because the values of the `sec_num` variable go from `1` to `10` as a result of the condition `while sec_num < 11`.\n",
        "\n",
        "3. Every value of the `sec_num` variable gets multiplied with the value of the `first_num` variable and gets stored in the `multiply` variable because of the `multiply = first_num * sec_num` statement.\n",
        "\n",
        "4. The `print()` function inside the inner `while` loop, prints the values of the `multiple` variable one-by-one.\n",
        "\n",
        "5. The `sec_num = sec_num + 1` statement increases the value of the `sec_num` variable by `1` unit. The inner `while` loop reaches its stopping condition because of this statement.\n",
        "\n",
        "6. The `first_num = first_num + 1` statement increases the value of the `first_num` variable by `1` unit. The outer `while` loop reaches its stopping condition because of this statement.\n",
        "\n",
        "So, we have covered all the ingredients and recipe for the `gameplay()` function. Hopefully, you understood how this function works.\n",
        "\n",
        "This is it for now. In the next class, we will learn more about Python lists. We will also create a better version of the Mind Reader game algorithm (that we created in the last class) using the Python list concepts.\n",
        "\n"
      ]
    },
    {
      "cell_type": "markdown",
      "metadata": {
        "id": "OKJ5eeh8keWY"
      },
      "source": [
        "---"
      ]
    },
    {
      "cell_type": "markdown",
      "metadata": {
        "id": "Zz6LYt9f1_i0"
      },
      "source": [
        "### Wrap-Up Quiz\n",
        "\n",
        "\n",
        "<img src=\"https://curriculum.whitehatjr.com/APT+Asset/APT+C4+images/q1.PNG\"/>\n",
        "\n",
        "\n",
        "<br/>\n",
        "<img src=\"https://curriculum.whitehatjr.com/APT+Asset/APT+C4+images/q2.PNG\"/>\n",
        "\n",
        "\n",
        "\n",
        "\n",
        "\n",
        "\n"
      ]
    },
    {
      "cell_type": "markdown",
      "metadata": {
        "id": "_e4qmpM8FF4F"
      },
      "source": [
        "---"
      ]
    },
    {
      "cell_type": "markdown",
      "metadata": {
        "id": "5un8GjNqiAxL"
      },
      "source": [
        "### **Project**\n",
        "\n",
        "You can now attempt the **Applied Tech. Project 4 - The gameplay() Function** on your own.\n",
        "\n",
        "\n",
        "**Applied Tech. Project 4 - The gameplay() Function**: https://drive.google.com/file/d/1gsM_YFTevw13UixJVGD9olkAcutNaFi7/view?usp=sharing"
      ]
    },
    {
      "cell_type": "markdown",
      "metadata": {
        "id": "SnJxosv5iAPe"
      },
      "source": [
        "---"
      ]
    }
  ]
}